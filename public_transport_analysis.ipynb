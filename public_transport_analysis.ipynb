{
 "cells": [
  {
   "cell_type": "markdown",
   "metadata": {},
   "source": [
    "# **Projeto de Análise de Risco no Transporte Público**"
   ]
  },
  {
   "cell_type": "code",
   "execution_count": 160,
   "metadata": {},
   "outputs": [],
   "source": [
    "# Imports\n",
    "import pandas as pd\n",
    "from pandasql import sqldf\n",
    "import matplotlib.pyplot as plt\n",
    "import seaborn as sns"
   ]
  },
  {
   "cell_type": "code",
   "execution_count": 161,
   "metadata": {},
   "outputs": [],
   "source": [
    "sns.set_theme(style=\"whitegrid\")"
   ]
  },
  {
   "cell_type": "markdown",
   "metadata": {},
   "source": [
    "## Load data"
   ]
  },
  {
   "cell_type": "code",
   "execution_count": 162,
   "metadata": {},
   "outputs": [
    {
     "data": {
      "text/html": [
       "<div>\n",
       "<style scoped>\n",
       "    .dataframe tbody tr th:only-of-type {\n",
       "        vertical-align: middle;\n",
       "    }\n",
       "\n",
       "    .dataframe tbody tr th {\n",
       "        vertical-align: top;\n",
       "    }\n",
       "\n",
       "    .dataframe thead th {\n",
       "        text-align: right;\n",
       "    }\n",
       "</style>\n",
       "<table border=\"1\" class=\"dataframe\">\n",
       "  <thead>\n",
       "    <tr style=\"text-align: right;\">\n",
       "      <th></th>\n",
       "      <th>year</th>\n",
       "      <th>date_of_incident</th>\n",
       "      <th>route</th>\n",
       "      <th>operator</th>\n",
       "      <th>group_name</th>\n",
       "      <th>bus_garage</th>\n",
       "      <th>borough</th>\n",
       "      <th>injury_result_description</th>\n",
       "      <th>incident_event_type</th>\n",
       "      <th>victim_category</th>\n",
       "      <th>victims_sex</th>\n",
       "      <th>victims_age</th>\n",
       "    </tr>\n",
       "  </thead>\n",
       "  <tbody>\n",
       "    <tr>\n",
       "      <th>0</th>\n",
       "      <td>2015</td>\n",
       "      <td>2015-01-01</td>\n",
       "      <td>1</td>\n",
       "      <td>London General</td>\n",
       "      <td>Go-Ahead</td>\n",
       "      <td>Garage Not Available</td>\n",
       "      <td>Southwark</td>\n",
       "      <td>Injuries treated on scene</td>\n",
       "      <td>Onboard Injuries</td>\n",
       "      <td>Passenger</td>\n",
       "      <td>Male</td>\n",
       "      <td>Child</td>\n",
       "    </tr>\n",
       "    <tr>\n",
       "      <th>1</th>\n",
       "      <td>2015</td>\n",
       "      <td>2015-01-01</td>\n",
       "      <td>4</td>\n",
       "      <td>Metroline</td>\n",
       "      <td>Metroline</td>\n",
       "      <td>Garage Not Available</td>\n",
       "      <td>Islington</td>\n",
       "      <td>Injuries treated on scene</td>\n",
       "      <td>Onboard Injuries</td>\n",
       "      <td>Passenger</td>\n",
       "      <td>Male</td>\n",
       "      <td>Unknown</td>\n",
       "    </tr>\n",
       "    <tr>\n",
       "      <th>2</th>\n",
       "      <td>2015</td>\n",
       "      <td>2015-01-01</td>\n",
       "      <td>5</td>\n",
       "      <td>East London</td>\n",
       "      <td>Stagecoach</td>\n",
       "      <td>Garage Not Available</td>\n",
       "      <td>Havering</td>\n",
       "      <td>Taken to Hospital – Reported Serious Injury or...</td>\n",
       "      <td>Onboard Injuries</td>\n",
       "      <td>Passenger</td>\n",
       "      <td>Male</td>\n",
       "      <td>Elderly</td>\n",
       "    </tr>\n",
       "    <tr>\n",
       "      <th>3</th>\n",
       "      <td>2015</td>\n",
       "      <td>2015-01-01</td>\n",
       "      <td>5</td>\n",
       "      <td>East London</td>\n",
       "      <td>Stagecoach</td>\n",
       "      <td>Garage Not Available</td>\n",
       "      <td>None London Borough</td>\n",
       "      <td>Taken to Hospital – Reported Serious Injury or...</td>\n",
       "      <td>Onboard Injuries</td>\n",
       "      <td>Passenger</td>\n",
       "      <td>Male</td>\n",
       "      <td>Elderly</td>\n",
       "    </tr>\n",
       "    <tr>\n",
       "      <th>4</th>\n",
       "      <td>2015</td>\n",
       "      <td>2015-01-01</td>\n",
       "      <td>6</td>\n",
       "      <td>Metroline</td>\n",
       "      <td>Metroline</td>\n",
       "      <td>Garage Not Available</td>\n",
       "      <td>Westminster</td>\n",
       "      <td>Reported Minor Injury - Treated at Hospital</td>\n",
       "      <td>Onboard Injuries</td>\n",
       "      <td>Pedestrian</td>\n",
       "      <td>Female</td>\n",
       "      <td>Elderly</td>\n",
       "    </tr>\n",
       "    <tr>\n",
       "      <th>...</th>\n",
       "      <td>...</td>\n",
       "      <td>...</td>\n",
       "      <td>...</td>\n",
       "      <td>...</td>\n",
       "      <td>...</td>\n",
       "      <td>...</td>\n",
       "      <td>...</td>\n",
       "      <td>...</td>\n",
       "      <td>...</td>\n",
       "      <td>...</td>\n",
       "      <td>...</td>\n",
       "      <td>...</td>\n",
       "    </tr>\n",
       "    <tr>\n",
       "      <th>23153</th>\n",
       "      <td>2018</td>\n",
       "      <td>2018-09-01</td>\n",
       "      <td>(blank)</td>\n",
       "      <td>East London</td>\n",
       "      <td>Stagecoach</td>\n",
       "      <td>West Ham</td>\n",
       "      <td>Newham</td>\n",
       "      <td>Injuries treated on scene</td>\n",
       "      <td>Personal Injury</td>\n",
       "      <td>Bus Driver</td>\n",
       "      <td>Male</td>\n",
       "      <td>Adult</td>\n",
       "    </tr>\n",
       "    <tr>\n",
       "      <th>23154</th>\n",
       "      <td>2018</td>\n",
       "      <td>2018-09-01</td>\n",
       "      <td>(blank)</td>\n",
       "      <td>London United</td>\n",
       "      <td>London United</td>\n",
       "      <td>Hounslow</td>\n",
       "      <td>Not specified</td>\n",
       "      <td>Injuries treated on scene</td>\n",
       "      <td>Personal Injury</td>\n",
       "      <td>Bus Driver</td>\n",
       "      <td>Male</td>\n",
       "      <td>Adult</td>\n",
       "    </tr>\n",
       "    <tr>\n",
       "      <th>23155</th>\n",
       "      <td>2018</td>\n",
       "      <td>2018-09-01</td>\n",
       "      <td>(blank)</td>\n",
       "      <td>London United</td>\n",
       "      <td>London United</td>\n",
       "      <td>Park Royal</td>\n",
       "      <td>Harrow</td>\n",
       "      <td>Injuries treated on scene</td>\n",
       "      <td>Slip Trip Fall</td>\n",
       "      <td>Operational Staff</td>\n",
       "      <td>Male</td>\n",
       "      <td>Adult</td>\n",
       "    </tr>\n",
       "    <tr>\n",
       "      <th>23156</th>\n",
       "      <td>2018</td>\n",
       "      <td>2018-09-01</td>\n",
       "      <td>(blank)</td>\n",
       "      <td>London United</td>\n",
       "      <td>London United</td>\n",
       "      <td>Shepherds Bush</td>\n",
       "      <td>Hammersmith &amp; Fulham</td>\n",
       "      <td>Injuries treated on scene</td>\n",
       "      <td>Personal Injury</td>\n",
       "      <td>Bus Driver</td>\n",
       "      <td>Male</td>\n",
       "      <td>Adult</td>\n",
       "    </tr>\n",
       "    <tr>\n",
       "      <th>23157</th>\n",
       "      <td>2018</td>\n",
       "      <td>2018-09-01</td>\n",
       "      <td>(blank)</td>\n",
       "      <td>Metroline</td>\n",
       "      <td>Metroline</td>\n",
       "      <td>Holloway</td>\n",
       "      <td>Islington</td>\n",
       "      <td>Injuries treated on scene</td>\n",
       "      <td>Personal Injury</td>\n",
       "      <td>Other</td>\n",
       "      <td>Unknown</td>\n",
       "      <td>Unknown</td>\n",
       "    </tr>\n",
       "  </tbody>\n",
       "</table>\n",
       "<p>23158 rows × 12 columns</p>\n",
       "</div>"
      ],
      "text/plain": [
       "       year date_of_incident    route        operator     group_name  \\\n",
       "0      2015       2015-01-01        1  London General       Go-Ahead   \n",
       "1      2015       2015-01-01        4       Metroline      Metroline   \n",
       "2      2015       2015-01-01        5     East London     Stagecoach   \n",
       "3      2015       2015-01-01        5     East London     Stagecoach   \n",
       "4      2015       2015-01-01        6       Metroline      Metroline   \n",
       "...     ...              ...      ...             ...            ...   \n",
       "23153  2018       2018-09-01  (blank)     East London     Stagecoach   \n",
       "23154  2018       2018-09-01  (blank)   London United  London United   \n",
       "23155  2018       2018-09-01  (blank)   London United  London United   \n",
       "23156  2018       2018-09-01  (blank)   London United  London United   \n",
       "23157  2018       2018-09-01  (blank)       Metroline      Metroline   \n",
       "\n",
       "                 bus_garage               borough  \\\n",
       "0      Garage Not Available             Southwark   \n",
       "1      Garage Not Available             Islington   \n",
       "2      Garage Not Available              Havering   \n",
       "3      Garage Not Available   None London Borough   \n",
       "4      Garage Not Available           Westminster   \n",
       "...                     ...                   ...   \n",
       "23153              West Ham                Newham   \n",
       "23154              Hounslow         Not specified   \n",
       "23155            Park Royal                Harrow   \n",
       "23156        Shepherds Bush  Hammersmith & Fulham   \n",
       "23157              Holloway             Islington   \n",
       "\n",
       "                               injury_result_description incident_event_type  \\\n",
       "0                              Injuries treated on scene    Onboard Injuries   \n",
       "1                              Injuries treated on scene    Onboard Injuries   \n",
       "2      Taken to Hospital – Reported Serious Injury or...    Onboard Injuries   \n",
       "3      Taken to Hospital – Reported Serious Injury or...    Onboard Injuries   \n",
       "4            Reported Minor Injury - Treated at Hospital    Onboard Injuries   \n",
       "...                                                  ...                 ...   \n",
       "23153                          Injuries treated on scene     Personal Injury   \n",
       "23154                          Injuries treated on scene     Personal Injury   \n",
       "23155                          Injuries treated on scene      Slip Trip Fall   \n",
       "23156                          Injuries treated on scene     Personal Injury   \n",
       "23157                          Injuries treated on scene     Personal Injury   \n",
       "\n",
       "         victim_category victims_sex victims_age  \n",
       "0              Passenger        Male       Child  \n",
       "1              Passenger        Male     Unknown  \n",
       "2              Passenger        Male     Elderly  \n",
       "3              Passenger        Male     Elderly  \n",
       "4             Pedestrian      Female     Elderly  \n",
       "...                  ...         ...         ...  \n",
       "23153         Bus Driver        Male       Adult  \n",
       "23154         Bus Driver        Male       Adult  \n",
       "23155  Operational Staff        Male       Adult  \n",
       "23156         Bus Driver        Male       Adult  \n",
       "23157              Other     Unknown     Unknown  \n",
       "\n",
       "[23158 rows x 12 columns]"
      ]
     },
     "execution_count": 162,
     "metadata": {},
     "output_type": "execute_result"
    }
   ],
   "source": [
    "data = pd.read_csv('data/tfl_bus_safety.csv')\n",
    "data"
   ]
  },
  {
   "cell_type": "code",
   "execution_count": 163,
   "metadata": {},
   "outputs": [
    {
     "name": "stdout",
     "output_type": "stream",
     "text": [
      "O dataset possui 23158 linhas e 12 colunas\n"
     ]
    }
   ],
   "source": [
    "print(f'O dataset possui {data.shape[0]} linhas e {data.shape[1]} colunas')"
   ]
  },
  {
   "cell_type": "code",
   "execution_count": 164,
   "metadata": {},
   "outputs": [
    {
     "name": "stdout",
     "output_type": "stream",
     "text": [
      "<class 'pandas.core.frame.DataFrame'>\n",
      "RangeIndex: 23158 entries, 0 to 23157\n",
      "Data columns (total 12 columns):\n",
      " #   Column                     Non-Null Count  Dtype \n",
      "---  ------                     --------------  ----- \n",
      " 0   year                       23158 non-null  int64 \n",
      " 1   date_of_incident           23158 non-null  object\n",
      " 2   route                      23158 non-null  object\n",
      " 3   operator                   23158 non-null  object\n",
      " 4   group_name                 23158 non-null  object\n",
      " 5   bus_garage                 23158 non-null  object\n",
      " 6   borough                    23158 non-null  object\n",
      " 7   injury_result_description  23158 non-null  object\n",
      " 8   incident_event_type        23158 non-null  object\n",
      " 9   victim_category            23158 non-null  object\n",
      " 10  victims_sex                23158 non-null  object\n",
      " 11  victims_age                23158 non-null  object\n",
      "dtypes: int64(1), object(11)\n",
      "memory usage: 2.1+ MB\n"
     ]
    }
   ],
   "source": [
    "data.info()"
   ]
  },
  {
   "cell_type": "markdown",
   "metadata": {},
   "source": [
    "Não há dados nulos e a grande maioria dos atributos são do tipo object."
   ]
  },
  {
   "cell_type": "markdown",
   "metadata": {},
   "source": [
    "### Entendendo as colunas do dataset:\n",
    "\n",
    "- **year**: Ano do acidente\n",
    "- **date_of_incident**: Data exata do acidente com dia, mês e ano\n",
    "- **route**: Rota do transporte público\n",
    "- **operator**: Operador do transporte público\n",
    "- **group_name**: Provavelmente esse é o nome do grupo que é responsável pela operação do transporte público\n",
    "- **bus_garage**: Garagem do ônibus\n",
    "- **borough**: Distrito, provavelmente de onde o acidente ocorreu\n",
    "- **injury_result_description**: Descrição do resultado da lesão\n",
    "- **incident_event_type**: Tipo de evento do incidente\n",
    "- **victim_category**: Categoria da vítima no incidente\n",
    "- **victims_sex**: Sexo das vítimas\n",
    "- **victims_age**: Idade das vítimas\n"
   ]
  },
  {
   "cell_type": "markdown",
   "metadata": {},
   "source": [
    "### Qual a quantidade de valores únicos por atributo?"
   ]
  },
  {
   "cell_type": "code",
   "execution_count": 165,
   "metadata": {},
   "outputs": [
    {
     "name": "stdout",
     "output_type": "stream",
     "text": [
      "year :: 4\n",
      "date_of_incident :: 45\n",
      "route :: 612\n",
      "operator :: 25\n",
      "group_name :: 14\n",
      "bus_garage :: 84\n",
      "borough :: 35\n",
      "injury_result_description :: 4\n",
      "incident_event_type :: 10\n",
      "victim_category :: 17\n",
      "victims_sex :: 3\n",
      "victims_age :: 5\n"
     ]
    }
   ],
   "source": [
    "for col in data.columns:\n",
    "    print(f'{col} :: {data[col].nunique()}')"
   ]
  },
  {
   "cell_type": "markdown",
   "metadata": {},
   "source": [
    "## Feature engineering\n",
    "\n",
    "Irei trabalhar nos dados de data para gerar novas features de dia e mês."
   ]
  },
  {
   "cell_type": "code",
   "execution_count": 166,
   "metadata": {},
   "outputs": [],
   "source": [
    "# Removendo a coluna 'year' para usra os dados da coluna 'date_of_incident'\n",
    "data = data.drop(labels='year', axis=1)"
   ]
  },
  {
   "cell_type": "code",
   "execution_count": 167,
   "metadata": {},
   "outputs": [],
   "source": [
    "# Transformando os dados de data em formato de datetime\n",
    "data['date_of_incident'] = pd.to_datetime(data['date_of_incident'])"
   ]
  },
  {
   "cell_type": "code",
   "execution_count": 168,
   "metadata": {},
   "outputs": [],
   "source": [
    "# Gerando novas variáveis para análises futuras\n",
    "data['year'] = data['date_of_incident'].dt.year\n",
    "data['mont'] = data['date_of_incident'].dt.month\n",
    "data['day'] = data['date_of_incident'].dt.day"
   ]
  },
  {
   "cell_type": "code",
   "execution_count": 169,
   "metadata": {},
   "outputs": [
    {
     "name": "stdout",
     "output_type": "stream",
     "text": [
      "<class 'pandas.core.frame.DataFrame'>\n",
      "RangeIndex: 23158 entries, 0 to 23157\n",
      "Data columns (total 14 columns):\n",
      " #   Column                     Non-Null Count  Dtype         \n",
      "---  ------                     --------------  -----         \n",
      " 0   date_of_incident           23158 non-null  datetime64[ns]\n",
      " 1   route                      23158 non-null  object        \n",
      " 2   operator                   23158 non-null  object        \n",
      " 3   group_name                 23158 non-null  object        \n",
      " 4   bus_garage                 23158 non-null  object        \n",
      " 5   borough                    23158 non-null  object        \n",
      " 6   injury_result_description  23158 non-null  object        \n",
      " 7   incident_event_type        23158 non-null  object        \n",
      " 8   victim_category            23158 non-null  object        \n",
      " 9   victims_sex                23158 non-null  object        \n",
      " 10  victims_age                23158 non-null  object        \n",
      " 11  year                       23158 non-null  int32         \n",
      " 12  mont                       23158 non-null  int32         \n",
      " 13  day                        23158 non-null  int32         \n",
      "dtypes: datetime64[ns](1), int32(3), object(10)\n",
      "memory usage: 2.2+ MB\n"
     ]
    }
   ],
   "source": [
    "data.info()"
   ]
  },
  {
   "cell_type": "markdown",
   "metadata": {},
   "source": [
    "## Análises dos dados para responder as perguntas do projeto"
   ]
  },
  {
   "cell_type": "markdown",
   "metadata": {},
   "source": [
    "### 1. **Qual a quantidade de incidentes por gênero?**"
   ]
  },
  {
   "cell_type": "code",
   "execution_count": 170,
   "metadata": {},
   "outputs": [
    {
     "name": "stdout",
     "output_type": "stream",
     "text": [
      "  victims_sex  Quantidade\n",
      "0      Female       11847\n",
      "1        Male        7709\n",
      "2     Unknown        3602\n"
     ]
    }
   ],
   "source": [
    "incidents_by_gender = sqldf(\n",
    "    '''\n",
    "    SELECT victims_sex, COUNT(route) as Quantidade\n",
    "    FROM data\n",
    "    GROUP BY \"victims_sex\"\n",
    "    '''\n",
    ")\n",
    "\n",
    "print(incidents_by_gender)"
   ]
  },
  {
   "cell_type": "code",
   "execution_count": 171,
   "metadata": {},
   "outputs": [
    {
     "data": {
      "image/png": "[encoded data removed]",
      "text/plain": [
       "<Figure size 1000x400 with 1 Axes>"
      ]
     },
     "metadata": {},
     "output_type": "display_data"
    }
   ],
   "source": [
    "fig, ax = plt.subplots(figsize=(10,4))\n",
    "\n",
    "ax = sns.barplot(data=incidents_by_gender,\n",
    "                 x='victims_sex',\n",
    "                 y='Quantidade',\n",
    "                 palette='mako',\n",
    "                 hue='victims_sex')\n",
    "\n",
    "ax.set_title('Quantidade de incidentes por gênero', loc='left', fontsize=18)\n",
    "ax.set_xlabel('Gênero').set_visible(False)\n",
    "ax.set_ylabel('Quantidade').set_visible(False)\n",
    "ax.spines['right'].set_visible(False)\n",
    "ax.spines['top'].set_visible(False)\n",
    "ax.spines['left'].set_visible(True)\n",
    "ax.tick_params(labelleft = False)\n",
    "ax.grid(False)\n",
    "\n",
    "total = incidents_by_gender['Quantidade'].sum()\n",
    "\n",
    "for i in range(incidents_by_gender.shape[0]):\n",
    "    value = incidents_by_gender['Quantidade'][i]\n",
    "    percent = value / total\n",
    "    ax.text(i, value, f'{round(value, 2)} ({round(percent, 2)*100}%)',\n",
    "           fontsize=10, ha='center')\n",
    "\n",
    "plt.show()"
   ]
  },
  {
   "cell_type": "markdown",
   "metadata": {},
   "source": [
    "Mais de 50% dos acidentes ocorrem com pessoas do sexo feminino."
   ]
  },
  {
   "cell_type": "markdown",
   "metadata": {},
   "source": [
    "### 2. **Qual faixa etária esteve mais envolvida nos incidentes?**"
   ]
  },
  {
   "cell_type": "code",
   "execution_count": 172,
   "metadata": {},
   "outputs": [
    {
     "name": "stdout",
     "output_type": "stream",
     "text": [
      "  victims_age  Quantidade\n",
      "0       Adult       10754\n",
      "1       Child        2181\n",
      "2     Elderly        2769\n",
      "3     Unknown        7135\n",
      "4       Youth         319\n"
     ]
    }
   ],
   "source": [
    "incidents_by_age = sqldf(\n",
    "    '''\n",
    "    SELECT victims_age, COUNT(route) as Quantidade\n",
    "    FROM data\n",
    "    GROUP BY \"victims_age\"\n",
    "    '''\n",
    ")\n",
    "\n",
    "print(incidents_by_age)"
   ]
  },
  {
   "cell_type": "code",
   "execution_count": 174,
   "metadata": {},
   "outputs": [
    {
     "data": {
      "image/png": "[encoded data removed]",
      "text/plain": [
       "<Figure size 1000x400 with 1 Axes>"
      ]
     },
     "metadata": {},
     "output_type": "display_data"
    }
   ],
   "source": [
    "fig, ax = plt.subplots(figsize=(10,4))\n",
    "\n",
    "ax = sns.barplot(data=incidents_by_age,\n",
    "                 y='victims_age',\n",
    "                 x='Quantidade',\n",
    "                 palette='mako',\n",
    "                 hue='victims_age',\n",
    "                 orient='h')\n",
    "\n",
    "ax.set_title('Quantidade de incidentes por faixa etária', loc='left', fontsize=18)\n",
    "ax.set_xlabel('Quantidade').set_visible(False)\n",
    "ax.set_ylabel('Faixa etária').set_visible(False)\n",
    "ax.spines['right'].set_visible(False)\n",
    "ax.spines['top'].set_visible(False)\n",
    "ax.spines['left'].set_visible(True)\n",
    "ax.spines['bottom'].set_visible(True)\n",
    "ax.tick_params(labelleft = True)\n",
    "ax.tick_params(labelbottom = False)\n",
    "ax.grid(False)\n",
    "\n",
    "total = incidents_by_age['Quantidade'].sum()\n",
    "\n",
    "for i in range(incidents_by_age.shape[0]):\n",
    "    value = incidents_by_age['Quantidade'][i]\n",
    "    percent = value / total\n",
    "    ax.text(value, i, f'{round(value, 2)} ({round(percent, 2)*100}%)', fontsize=10)\n",
    "\n",
    "plt.show()"
   ]
  },
  {
   "cell_type": "markdown",
   "metadata": {},
   "source": [
    "A faixa etária mais envolvida em acidentes é a adulta, com 46% dos casos.\n",
    "\n",
    "Em 31% dos acidentes a faixa etária é desconhecida."
   ]
  },
  {
   "cell_type": "code",
   "execution_count": null,
   "metadata": {},
   "outputs": [],
   "source": []
  }
 ],
 "metadata": {
  "kernelspec": {
   "display_name": "env",
   "language": "python",
   "name": "python3"
  },
  "language_info": {
   "codemirror_mode": {
    "name": "ipython",
    "version": 3
   },
   "file_extension": ".py",
   "mimetype": "text/x-python",
   "name": "python",
   "nbconvert_exporter": "python",
   "pygments_lexer": "ipython3",
   "version": "3.10.12"
  }
 },
 "nbformat": 4,
 "nbformat_minor": 2
}
